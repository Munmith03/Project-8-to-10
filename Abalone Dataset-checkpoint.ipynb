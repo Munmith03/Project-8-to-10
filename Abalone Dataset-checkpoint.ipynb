{
 "cells": [
  {
   "cell_type": "code",
   "execution_count": 1,
   "metadata": {},
   "outputs": [],
   "source": [
    "import numpy as np\n",
    "import pandas as pd\n",
    "import matplotlib.pyplot as plt\n",
    "%matplotlib inline"
   ]
  },
  {
   "cell_type": "code",
   "execution_count": 2,
   "metadata": {},
   "outputs": [],
   "source": [
    "from sklearn.model_selection import train_test_split\n",
    "from sklearn.ensemble import RandomForestClassifier\n",
    "from sklearn.preprocessing import OneHotEncoder\n",
    "from sklearn.preprocessing import LabelEncoder\n",
    "from sklearn.model_selection import GridSearchCV\n",
    "from sklearn.utils import compute_class_weight\n",
    "from sklearn.metrics import confusion_matrix\n",
    "from sklearn.metrics import mean_squared_error\n",
    "from sklearn.metrics import plot_confusion_matrix\n",
    "from sklearn.metrics import plot_precision_recall_curve\n",
    "from sklearn.metrics import precision_recall_curve\n",
    "from sklearn.metrics import plot_roc_curve\n",
    "from sklearn.metrics import precision_score\n",
    "from sklearn.metrics import recall_score\n",
    "from sklearn.metrics import accuracy_score\n",
    "from sklearn.metrics import f1_score"
   ]
  },
  {
   "cell_type": "code",
   "execution_count": 3,
   "metadata": {},
   "outputs": [
    {
     "data": {
      "text/html": [
       "<div>\n",
       "<style scoped>\n",
       "    .dataframe tbody tr th:only-of-type {\n",
       "        vertical-align: middle;\n",
       "    }\n",
       "\n",
       "    .dataframe tbody tr th {\n",
       "        vertical-align: top;\n",
       "    }\n",
       "\n",
       "    .dataframe thead th {\n",
       "        text-align: right;\n",
       "    }\n",
       "</style>\n",
       "<table border=\"1\" class=\"dataframe\">\n",
       "  <thead>\n",
       "    <tr style=\"text-align: right;\">\n",
       "      <th></th>\n",
       "      <th>Sex</th>\n",
       "      <th>Length</th>\n",
       "      <th>Diameter</th>\n",
       "      <th>Height</th>\n",
       "      <th>Whole_weight</th>\n",
       "      <th>Shucked_weight</th>\n",
       "      <th>Viscera_weight</th>\n",
       "      <th>Shell_weight</th>\n",
       "      <th>Rings</th>\n",
       "    </tr>\n",
       "  </thead>\n",
       "  <tbody>\n",
       "    <tr>\n",
       "      <th>0</th>\n",
       "      <td>M</td>\n",
       "      <td>70</td>\n",
       "      <td>53</td>\n",
       "      <td>18</td>\n",
       "      <td>45.1</td>\n",
       "      <td>19.9</td>\n",
       "      <td>9.7</td>\n",
       "      <td>14.0</td>\n",
       "      <td>7</td>\n",
       "    </tr>\n",
       "    <tr>\n",
       "      <th>1</th>\n",
       "      <td>F</td>\n",
       "      <td>106</td>\n",
       "      <td>84</td>\n",
       "      <td>27</td>\n",
       "      <td>135.4</td>\n",
       "      <td>51.3</td>\n",
       "      <td>28.3</td>\n",
       "      <td>42.0</td>\n",
       "      <td>9</td>\n",
       "    </tr>\n",
       "    <tr>\n",
       "      <th>2</th>\n",
       "      <td>M</td>\n",
       "      <td>88</td>\n",
       "      <td>73</td>\n",
       "      <td>25</td>\n",
       "      <td>103.2</td>\n",
       "      <td>43.1</td>\n",
       "      <td>22.8</td>\n",
       "      <td>31.0</td>\n",
       "      <td>10</td>\n",
       "    </tr>\n",
       "    <tr>\n",
       "      <th>3</th>\n",
       "      <td>I</td>\n",
       "      <td>66</td>\n",
       "      <td>51</td>\n",
       "      <td>16</td>\n",
       "      <td>41.0</td>\n",
       "      <td>17.9</td>\n",
       "      <td>7.9</td>\n",
       "      <td>11.0</td>\n",
       "      <td>7</td>\n",
       "    </tr>\n",
       "    <tr>\n",
       "      <th>4</th>\n",
       "      <td>I</td>\n",
       "      <td>85</td>\n",
       "      <td>60</td>\n",
       "      <td>19</td>\n",
       "      <td>70.3</td>\n",
       "      <td>28.2</td>\n",
       "      <td>15.5</td>\n",
       "      <td>24.0</td>\n",
       "      <td>8</td>\n",
       "    </tr>\n",
       "    <tr>\n",
       "      <th>...</th>\n",
       "      <td>...</td>\n",
       "      <td>...</td>\n",
       "      <td>...</td>\n",
       "      <td>...</td>\n",
       "      <td>...</td>\n",
       "      <td>...</td>\n",
       "      <td>...</td>\n",
       "      <td>...</td>\n",
       "      <td>...</td>\n",
       "    </tr>\n",
       "    <tr>\n",
       "      <th>4171</th>\n",
       "      <td>F</td>\n",
       "      <td>113</td>\n",
       "      <td>90</td>\n",
       "      <td>33</td>\n",
       "      <td>177.4</td>\n",
       "      <td>74.0</td>\n",
       "      <td>47.8</td>\n",
       "      <td>49.8</td>\n",
       "      <td>11</td>\n",
       "    </tr>\n",
       "    <tr>\n",
       "      <th>4172</th>\n",
       "      <td>M</td>\n",
       "      <td>118</td>\n",
       "      <td>88</td>\n",
       "      <td>27</td>\n",
       "      <td>193.2</td>\n",
       "      <td>87.8</td>\n",
       "      <td>42.9</td>\n",
       "      <td>52.1</td>\n",
       "      <td>10</td>\n",
       "    </tr>\n",
       "    <tr>\n",
       "      <th>4173</th>\n",
       "      <td>M</td>\n",
       "      <td>120</td>\n",
       "      <td>95</td>\n",
       "      <td>41</td>\n",
       "      <td>235.2</td>\n",
       "      <td>105.1</td>\n",
       "      <td>57.5</td>\n",
       "      <td>61.6</td>\n",
       "      <td>9</td>\n",
       "    </tr>\n",
       "    <tr>\n",
       "      <th>4174</th>\n",
       "      <td>F</td>\n",
       "      <td>125</td>\n",
       "      <td>97</td>\n",
       "      <td>30</td>\n",
       "      <td>218.9</td>\n",
       "      <td>106.2</td>\n",
       "      <td>52.2</td>\n",
       "      <td>59.2</td>\n",
       "      <td>10</td>\n",
       "    </tr>\n",
       "    <tr>\n",
       "      <th>4175</th>\n",
       "      <td>M</td>\n",
       "      <td>142</td>\n",
       "      <td>111</td>\n",
       "      <td>39</td>\n",
       "      <td>389.7</td>\n",
       "      <td>189.1</td>\n",
       "      <td>75.3</td>\n",
       "      <td>99.0</td>\n",
       "      <td>12</td>\n",
       "    </tr>\n",
       "  </tbody>\n",
       "</table>\n",
       "<p>4176 rows × 9 columns</p>\n",
       "</div>"
      ],
      "text/plain": [
       "     Sex  Length  Diameter  Height  Whole_weight  Shucked_weight  \\\n",
       "0      M      70        53      18          45.1            19.9   \n",
       "1      F     106        84      27         135.4            51.3   \n",
       "2      M      88        73      25         103.2            43.1   \n",
       "3      I      66        51      16          41.0            17.9   \n",
       "4      I      85        60      19          70.3            28.2   \n",
       "...   ..     ...       ...     ...           ...             ...   \n",
       "4171   F     113        90      33         177.4            74.0   \n",
       "4172   M     118        88      27         193.2            87.8   \n",
       "4173   M     120        95      41         235.2           105.1   \n",
       "4174   F     125        97      30         218.9           106.2   \n",
       "4175   M     142       111      39         389.7           189.1   \n",
       "\n",
       "      Viscera_weight  Shell_weight  Rings  \n",
       "0                9.7          14.0      7  \n",
       "1               28.3          42.0      9  \n",
       "2               22.8          31.0     10  \n",
       "3                7.9          11.0      7  \n",
       "4               15.5          24.0      8  \n",
       "...              ...           ...    ...  \n",
       "4171            47.8          49.8     11  \n",
       "4172            42.9          52.1     10  \n",
       "4173            57.5          61.6      9  \n",
       "4174            52.2          59.2     10  \n",
       "4175            75.3          99.0     12  \n",
       "\n",
       "[4176 rows x 9 columns]"
      ]
     },
     "execution_count": 3,
     "metadata": {},
     "output_type": "execute_result"
    }
   ],
   "source": [
    "data = pd.read_csv('Abalone_data.csv')\n",
    "data"
   ]
  },
  {
   "cell_type": "code",
   "execution_count": 4,
   "metadata": {},
   "outputs": [
    {
     "data": {
      "text/plain": [
       "4176"
      ]
     },
     "execution_count": 4,
     "metadata": {},
     "output_type": "execute_result"
    }
   ],
   "source": [
    "category = np.repeat(\"empty000\", data.shape[0])\n",
    "category.size"
   ]
  },
  {
   "cell_type": "code",
   "execution_count": 5,
   "metadata": {},
   "outputs": [],
   "source": [
    "for i in range(0, data[\"Rings\"].size):\n",
    "    if(data[\"Rings\"][i] <= 7):\n",
    "        category[i] = \"G1\"\n",
    "    elif(data[\"Rings\"][i] > 7):\n",
    "        category[i] = \"G2\""
   ]
  },
  {
   "cell_type": "code",
   "execution_count": 6,
   "metadata": {},
   "outputs": [
    {
     "data": {
      "text/plain": [
       "array(['G2', 'G2', 'G2', 'G2', 'G2', 'G1', 'G2', 'G1', 'G2', 'G2', 'G2',\n",
       "       'G2', 'G2', 'G2', 'G2'], dtype='<U8')"
      ]
     },
     "execution_count": 6,
     "metadata": {},
     "output_type": "execute_result"
    }
   ],
   "source": [
    "category[10:25]"
   ]
  },
  {
   "cell_type": "code",
   "execution_count": 7,
   "metadata": {},
   "outputs": [
    {
     "data": {
      "text/plain": [
       "9     689\n",
       "10    634\n",
       "8     568\n",
       "11    487\n",
       "7     391\n",
       "12    267\n",
       "6     259\n",
       "13    203\n",
       "14    126\n",
       "5     115\n",
       "15    102\n",
       "16     67\n",
       "17     58\n",
       "4      57\n",
       "18     42\n",
       "19     32\n",
       "20     26\n",
       "3      15\n",
       "21     14\n",
       "23      9\n",
       "22      6\n",
       "24      2\n",
       "27      2\n",
       "1       1\n",
       "25      1\n",
       "2       1\n",
       "26      1\n",
       "29      1\n",
       "Name: Rings, dtype: int64"
      ]
     },
     "execution_count": 7,
     "metadata": {},
     "output_type": "execute_result"
    }
   ],
   "source": [
    "data.Rings.value_counts()"
   ]
  },
  {
   "cell_type": "code",
   "execution_count": 8,
   "metadata": {},
   "outputs": [
    {
     "name": "stdout",
     "output_type": "stream",
     "text": [
      "[2 0 2 1 1 0 0]\n"
     ]
    }
   ],
   "source": [
    "label_encoder = LabelEncoder()\n",
    "integer_encoded = label_encoder.fit_transform(data['Sex'])\n",
    "print(integer_encoded[0:7])"
   ]
  },
  {
   "cell_type": "code",
   "execution_count": 9,
   "metadata": {},
   "outputs": [
    {
     "data": {
      "text/plain": [
       "array([[0., 0., 1.],\n",
       "       [1., 0., 0.],\n",
       "       [0., 0., 1.],\n",
       "       [0., 1., 0.],\n",
       "       [0., 1., 0.],\n",
       "       [1., 0., 0.],\n",
       "       [1., 0., 0.]])"
      ]
     },
     "execution_count": 9,
     "metadata": {},
     "output_type": "execute_result"
    }
   ],
   "source": [
    "onehot_encoder = OneHotEncoder(sparse=False)\n",
    "integer_encoded = integer_encoded.reshape(len(integer_encoded), 1)\n",
    "onehot_encoded = onehot_encoder.fit_transform(integer_encoded)\n",
    "onehot_encoded[0:7]\n",
    "#onehot_encoded.shape"
   ]
  },
  {
   "cell_type": "code",
   "execution_count": 10,
   "metadata": {},
   "outputs": [],
   "source": [
    "data = data.drop(['Sex'], axis=1)\n",
    "data['category_size'] = category\n",
    "data = data.drop(['Rings'], axis=1)"
   ]
  },
  {
   "cell_type": "code",
   "execution_count": 11,
   "metadata": {},
   "outputs": [
    {
     "data": {
      "text/html": [
       "<div>\n",
       "<style scoped>\n",
       "    .dataframe tbody tr th:only-of-type {\n",
       "        vertical-align: middle;\n",
       "    }\n",
       "\n",
       "    .dataframe tbody tr th {\n",
       "        vertical-align: top;\n",
       "    }\n",
       "\n",
       "    .dataframe thead th {\n",
       "        text-align: right;\n",
       "    }\n",
       "</style>\n",
       "<table border=\"1\" class=\"dataframe\">\n",
       "  <thead>\n",
       "    <tr style=\"text-align: right;\">\n",
       "      <th></th>\n",
       "      <th>Length</th>\n",
       "      <th>Diameter</th>\n",
       "      <th>Height</th>\n",
       "      <th>Whole_weight</th>\n",
       "      <th>Shucked_weight</th>\n",
       "      <th>Viscera_weight</th>\n",
       "      <th>Shell_weight</th>\n",
       "      <th>category_size</th>\n",
       "    </tr>\n",
       "  </thead>\n",
       "  <tbody>\n",
       "    <tr>\n",
       "      <th>0</th>\n",
       "      <td>70</td>\n",
       "      <td>53</td>\n",
       "      <td>18</td>\n",
       "      <td>45.1</td>\n",
       "      <td>19.9</td>\n",
       "      <td>9.7</td>\n",
       "      <td>14.0</td>\n",
       "      <td>G1</td>\n",
       "    </tr>\n",
       "    <tr>\n",
       "      <th>1</th>\n",
       "      <td>106</td>\n",
       "      <td>84</td>\n",
       "      <td>27</td>\n",
       "      <td>135.4</td>\n",
       "      <td>51.3</td>\n",
       "      <td>28.3</td>\n",
       "      <td>42.0</td>\n",
       "      <td>G2</td>\n",
       "    </tr>\n",
       "    <tr>\n",
       "      <th>2</th>\n",
       "      <td>88</td>\n",
       "      <td>73</td>\n",
       "      <td>25</td>\n",
       "      <td>103.2</td>\n",
       "      <td>43.1</td>\n",
       "      <td>22.8</td>\n",
       "      <td>31.0</td>\n",
       "      <td>G2</td>\n",
       "    </tr>\n",
       "    <tr>\n",
       "      <th>3</th>\n",
       "      <td>66</td>\n",
       "      <td>51</td>\n",
       "      <td>16</td>\n",
       "      <td>41.0</td>\n",
       "      <td>17.9</td>\n",
       "      <td>7.9</td>\n",
       "      <td>11.0</td>\n",
       "      <td>G1</td>\n",
       "    </tr>\n",
       "    <tr>\n",
       "      <th>4</th>\n",
       "      <td>85</td>\n",
       "      <td>60</td>\n",
       "      <td>19</td>\n",
       "      <td>70.3</td>\n",
       "      <td>28.2</td>\n",
       "      <td>15.5</td>\n",
       "      <td>24.0</td>\n",
       "      <td>G2</td>\n",
       "    </tr>\n",
       "  </tbody>\n",
       "</table>\n",
       "</div>"
      ],
      "text/plain": [
       "   Length  Diameter  Height  Whole_weight  Shucked_weight  Viscera_weight  \\\n",
       "0      70        53      18          45.1            19.9             9.7   \n",
       "1     106        84      27         135.4            51.3            28.3   \n",
       "2      88        73      25         103.2            43.1            22.8   \n",
       "3      66        51      16          41.0            17.9             7.9   \n",
       "4      85        60      19          70.3            28.2            15.5   \n",
       "\n",
       "   Shell_weight category_size  \n",
       "0          14.0            G1  \n",
       "1          42.0            G2  \n",
       "2          31.0            G2  \n",
       "3          11.0            G1  \n",
       "4          24.0            G2  "
      ]
     },
     "execution_count": 11,
     "metadata": {},
     "output_type": "execute_result"
    }
   ],
   "source": [
    "data.head()"
   ]
  },
  {
   "cell_type": "code",
   "execution_count": 12,
   "metadata": {},
   "outputs": [],
   "source": [
    "features = data.iloc[:,np.r_[0:7]]\n",
    "labels = data.iloc[:,7]"
   ]
  },
  {
   "cell_type": "code",
   "execution_count": 13,
   "metadata": {},
   "outputs": [
    {
     "data": {
      "text/plain": [
       "G2    3337\n",
       "G1     839\n",
       "Name: category_size, dtype: int64"
      ]
     },
     "execution_count": 13,
     "metadata": {},
     "output_type": "execute_result"
    }
   ],
   "source": [
    "data.category_size.value_counts()"
   ]
  },
  {
   "cell_type": "code",
   "execution_count": 14,
   "metadata": {},
   "outputs": [
    {
     "data": {
      "text/html": [
       "<div>\n",
       "<style scoped>\n",
       "    .dataframe tbody tr th:only-of-type {\n",
       "        vertical-align: middle;\n",
       "    }\n",
       "\n",
       "    .dataframe tbody tr th {\n",
       "        vertical-align: top;\n",
       "    }\n",
       "\n",
       "    .dataframe thead th {\n",
       "        text-align: right;\n",
       "    }\n",
       "</style>\n",
       "<table border=\"1\" class=\"dataframe\">\n",
       "  <thead>\n",
       "    <tr style=\"text-align: right;\">\n",
       "      <th></th>\n",
       "      <th>Length</th>\n",
       "      <th>Diameter</th>\n",
       "      <th>Height</th>\n",
       "      <th>Whole_weight</th>\n",
       "      <th>Shucked_weight</th>\n",
       "      <th>Viscera_weight</th>\n",
       "      <th>Shell_weight</th>\n",
       "    </tr>\n",
       "  </thead>\n",
       "  <tbody>\n",
       "    <tr>\n",
       "      <th>0</th>\n",
       "      <td>70</td>\n",
       "      <td>53</td>\n",
       "      <td>18</td>\n",
       "      <td>45.1</td>\n",
       "      <td>19.9</td>\n",
       "      <td>9.7</td>\n",
       "      <td>14.0</td>\n",
       "    </tr>\n",
       "    <tr>\n",
       "      <th>1</th>\n",
       "      <td>106</td>\n",
       "      <td>84</td>\n",
       "      <td>27</td>\n",
       "      <td>135.4</td>\n",
       "      <td>51.3</td>\n",
       "      <td>28.3</td>\n",
       "      <td>42.0</td>\n",
       "    </tr>\n",
       "    <tr>\n",
       "      <th>2</th>\n",
       "      <td>88</td>\n",
       "      <td>73</td>\n",
       "      <td>25</td>\n",
       "      <td>103.2</td>\n",
       "      <td>43.1</td>\n",
       "      <td>22.8</td>\n",
       "      <td>31.0</td>\n",
       "    </tr>\n",
       "    <tr>\n",
       "      <th>3</th>\n",
       "      <td>66</td>\n",
       "      <td>51</td>\n",
       "      <td>16</td>\n",
       "      <td>41.0</td>\n",
       "      <td>17.9</td>\n",
       "      <td>7.9</td>\n",
       "      <td>11.0</td>\n",
       "    </tr>\n",
       "    <tr>\n",
       "      <th>4</th>\n",
       "      <td>85</td>\n",
       "      <td>60</td>\n",
       "      <td>19</td>\n",
       "      <td>70.3</td>\n",
       "      <td>28.2</td>\n",
       "      <td>15.5</td>\n",
       "      <td>24.0</td>\n",
       "    </tr>\n",
       "  </tbody>\n",
       "</table>\n",
       "</div>"
      ],
      "text/plain": [
       "   Length  Diameter  Height  Whole_weight  Shucked_weight  Viscera_weight  \\\n",
       "0      70        53      18          45.1            19.9             9.7   \n",
       "1     106        84      27         135.4            51.3            28.3   \n",
       "2      88        73      25         103.2            43.1            22.8   \n",
       "3      66        51      16          41.0            17.9             7.9   \n",
       "4      85        60      19          70.3            28.2            15.5   \n",
       "\n",
       "   Shell_weight  \n",
       "0          14.0  \n",
       "1          42.0  \n",
       "2          31.0  \n",
       "3          11.0  \n",
       "4          24.0  "
      ]
     },
     "execution_count": 14,
     "metadata": {},
     "output_type": "execute_result"
    }
   ],
   "source": [
    "features.head()"
   ]
  },
  {
   "cell_type": "code",
   "execution_count": 15,
   "metadata": {},
   "outputs": [
    {
     "data": {
      "text/html": [
       "<div>\n",
       "<style scoped>\n",
       "    .dataframe tbody tr th:only-of-type {\n",
       "        vertical-align: middle;\n",
       "    }\n",
       "\n",
       "    .dataframe tbody tr th {\n",
       "        vertical-align: top;\n",
       "    }\n",
       "\n",
       "    .dataframe thead th {\n",
       "        text-align: right;\n",
       "    }\n",
       "</style>\n",
       "<table border=\"1\" class=\"dataframe\">\n",
       "  <thead>\n",
       "    <tr style=\"text-align: right;\">\n",
       "      <th></th>\n",
       "      <th>Length</th>\n",
       "      <th>Diameter</th>\n",
       "      <th>Height</th>\n",
       "      <th>Whole_weight</th>\n",
       "      <th>Shucked_weight</th>\n",
       "      <th>Viscera_weight</th>\n",
       "      <th>Shell_weight</th>\n",
       "    </tr>\n",
       "  </thead>\n",
       "  <tbody>\n",
       "    <tr>\n",
       "      <th>count</th>\n",
       "      <td>4176.000000</td>\n",
       "      <td>4176.000000</td>\n",
       "      <td>4176.000000</td>\n",
       "      <td>4176.000000</td>\n",
       "      <td>4176.000000</td>\n",
       "      <td>4176.000000</td>\n",
       "      <td>4176.000000</td>\n",
       "    </tr>\n",
       "    <tr>\n",
       "      <th>mean</th>\n",
       "      <td>104.801724</td>\n",
       "      <td>81.578305</td>\n",
       "      <td>27.905412</td>\n",
       "      <td>165.763506</td>\n",
       "      <td>71.879957</td>\n",
       "      <td>36.122534</td>\n",
       "      <td>47.770426</td>\n",
       "    </tr>\n",
       "    <tr>\n",
       "      <th>std</th>\n",
       "      <td>24.020509</td>\n",
       "      <td>19.849906</td>\n",
       "      <td>8.365278</td>\n",
       "      <td>98.084710</td>\n",
       "      <td>44.395943</td>\n",
       "      <td>21.924091</td>\n",
       "      <td>27.842510</td>\n",
       "    </tr>\n",
       "    <tr>\n",
       "      <th>min</th>\n",
       "      <td>15.000000</td>\n",
       "      <td>11.000000</td>\n",
       "      <td>0.000000</td>\n",
       "      <td>0.400000</td>\n",
       "      <td>0.200000</td>\n",
       "      <td>0.100000</td>\n",
       "      <td>0.300000</td>\n",
       "    </tr>\n",
       "    <tr>\n",
       "      <th>25%</th>\n",
       "      <td>90.000000</td>\n",
       "      <td>70.000000</td>\n",
       "      <td>23.000000</td>\n",
       "      <td>88.300000</td>\n",
       "      <td>37.200000</td>\n",
       "      <td>18.675000</td>\n",
       "      <td>26.000000</td>\n",
       "    </tr>\n",
       "    <tr>\n",
       "      <th>50%</th>\n",
       "      <td>109.000000</td>\n",
       "      <td>85.000000</td>\n",
       "      <td>28.000000</td>\n",
       "      <td>159.950000</td>\n",
       "      <td>67.200000</td>\n",
       "      <td>34.200000</td>\n",
       "      <td>46.800000</td>\n",
       "    </tr>\n",
       "    <tr>\n",
       "      <th>75%</th>\n",
       "      <td>123.000000</td>\n",
       "      <td>96.000000</td>\n",
       "      <td>33.000000</td>\n",
       "      <td>230.650000</td>\n",
       "      <td>100.400000</td>\n",
       "      <td>50.600000</td>\n",
       "      <td>65.800000</td>\n",
       "    </tr>\n",
       "    <tr>\n",
       "      <th>max</th>\n",
       "      <td>163.000000</td>\n",
       "      <td>130.000000</td>\n",
       "      <td>226.000000</td>\n",
       "      <td>565.100000</td>\n",
       "      <td>297.600000</td>\n",
       "      <td>152.000000</td>\n",
       "      <td>201.000000</td>\n",
       "    </tr>\n",
       "  </tbody>\n",
       "</table>\n",
       "</div>"
      ],
      "text/plain": [
       "            Length     Diameter       Height  Whole_weight  Shucked_weight  \\\n",
       "count  4176.000000  4176.000000  4176.000000   4176.000000     4176.000000   \n",
       "mean    104.801724    81.578305    27.905412    165.763506       71.879957   \n",
       "std      24.020509    19.849906     8.365278     98.084710       44.395943   \n",
       "min      15.000000    11.000000     0.000000      0.400000        0.200000   \n",
       "25%      90.000000    70.000000    23.000000     88.300000       37.200000   \n",
       "50%     109.000000    85.000000    28.000000    159.950000       67.200000   \n",
       "75%     123.000000    96.000000    33.000000    230.650000      100.400000   \n",
       "max     163.000000   130.000000   226.000000    565.100000      297.600000   \n",
       "\n",
       "       Viscera_weight  Shell_weight  \n",
       "count     4176.000000   4176.000000  \n",
       "mean        36.122534     47.770426  \n",
       "std         21.924091     27.842510  \n",
       "min          0.100000      0.300000  \n",
       "25%         18.675000     26.000000  \n",
       "50%         34.200000     46.800000  \n",
       "75%         50.600000     65.800000  \n",
       "max        152.000000    201.000000  "
      ]
     },
     "execution_count": 15,
     "metadata": {},
     "output_type": "execute_result"
    }
   ],
   "source": [
    "data.describe()"
   ]
  },
  {
   "cell_type": "code",
   "execution_count": null,
   "metadata": {},
   "outputs": [],
   "source": [
    "#Train-Test split"
   ]
  },
  {
   "cell_type": "code",
   "execution_count": 16,
   "metadata": {},
   "outputs": [],
   "source": [
    "X_train, X_test, y_train, y_test, X_gender, X_gender_test = train_test_split(features, labels, onehot_encoded, random_state=10, test_size=0.2)"
   ]
  },
  {
   "cell_type": "code",
   "execution_count": 17,
   "metadata": {},
   "outputs": [
    {
     "data": {
      "text/plain": [
       "(3340, 7)"
      ]
     },
     "execution_count": 17,
     "metadata": {},
     "output_type": "execute_result"
    }
   ],
   "source": [
    "X_train.shape"
   ]
  },
  {
   "cell_type": "code",
   "execution_count": 18,
   "metadata": {},
   "outputs": [
    {
     "data": {
      "text/html": [
       "<div>\n",
       "<style scoped>\n",
       "    .dataframe tbody tr th:only-of-type {\n",
       "        vertical-align: middle;\n",
       "    }\n",
       "\n",
       "    .dataframe tbody tr th {\n",
       "        vertical-align: top;\n",
       "    }\n",
       "\n",
       "    .dataframe thead th {\n",
       "        text-align: right;\n",
       "    }\n",
       "</style>\n",
       "<table border=\"1\" class=\"dataframe\">\n",
       "  <thead>\n",
       "    <tr style=\"text-align: right;\">\n",
       "      <th></th>\n",
       "      <th>Length</th>\n",
       "      <th>Diameter</th>\n",
       "      <th>Height</th>\n",
       "      <th>Whole_weight</th>\n",
       "      <th>Shucked_weight</th>\n",
       "      <th>Viscera_weight</th>\n",
       "      <th>Shell_weight</th>\n",
       "    </tr>\n",
       "  </thead>\n",
       "  <tbody>\n",
       "    <tr>\n",
       "      <th>3543</th>\n",
       "      <td>95</td>\n",
       "      <td>71</td>\n",
       "      <td>25</td>\n",
       "      <td>97.3</td>\n",
       "      <td>43.1</td>\n",
       "      <td>22.1</td>\n",
       "      <td>28.4</td>\n",
       "    </tr>\n",
       "    <tr>\n",
       "      <th>3035</th>\n",
       "      <td>110</td>\n",
       "      <td>89</td>\n",
       "      <td>29</td>\n",
       "      <td>156.6</td>\n",
       "      <td>60.9</td>\n",
       "      <td>31.4</td>\n",
       "      <td>53.0</td>\n",
       "    </tr>\n",
       "    <tr>\n",
       "      <th>4018</th>\n",
       "      <td>132</td>\n",
       "      <td>103</td>\n",
       "      <td>31</td>\n",
       "      <td>288.3</td>\n",
       "      <td>141.1</td>\n",
       "      <td>71.1</td>\n",
       "      <td>67.0</td>\n",
       "    </tr>\n",
       "    <tr>\n",
       "      <th>997</th>\n",
       "      <td>118</td>\n",
       "      <td>91</td>\n",
       "      <td>29</td>\n",
       "      <td>212.6</td>\n",
       "      <td>103.1</td>\n",
       "      <td>48.9</td>\n",
       "      <td>50.0</td>\n",
       "    </tr>\n",
       "    <tr>\n",
       "      <th>2522</th>\n",
       "      <td>113</td>\n",
       "      <td>88</td>\n",
       "      <td>30</td>\n",
       "      <td>196.6</td>\n",
       "      <td>89.5</td>\n",
       "      <td>47.1</td>\n",
       "      <td>49.7</td>\n",
       "    </tr>\n",
       "    <tr>\n",
       "      <th>...</th>\n",
       "      <td>...</td>\n",
       "      <td>...</td>\n",
       "      <td>...</td>\n",
       "      <td>...</td>\n",
       "      <td>...</td>\n",
       "      <td>...</td>\n",
       "      <td>...</td>\n",
       "    </tr>\n",
       "    <tr>\n",
       "      <th>2009</th>\n",
       "      <td>87</td>\n",
       "      <td>65</td>\n",
       "      <td>24</td>\n",
       "      <td>69.2</td>\n",
       "      <td>31.8</td>\n",
       "      <td>16.8</td>\n",
       "      <td>19.0</td>\n",
       "    </tr>\n",
       "    <tr>\n",
       "      <th>1180</th>\n",
       "      <td>131</td>\n",
       "      <td>102</td>\n",
       "      <td>35</td>\n",
       "      <td>283.0</td>\n",
       "      <td>117.7</td>\n",
       "      <td>74.5</td>\n",
       "      <td>72.8</td>\n",
       "    </tr>\n",
       "    <tr>\n",
       "      <th>3441</th>\n",
       "      <td>96</td>\n",
       "      <td>74</td>\n",
       "      <td>26</td>\n",
       "      <td>128.6</td>\n",
       "      <td>69.8</td>\n",
       "      <td>23.1</td>\n",
       "      <td>27.0</td>\n",
       "    </tr>\n",
       "    <tr>\n",
       "      <th>1344</th>\n",
       "      <td>117</td>\n",
       "      <td>95</td>\n",
       "      <td>30</td>\n",
       "      <td>213.0</td>\n",
       "      <td>106.3</td>\n",
       "      <td>39.8</td>\n",
       "      <td>57.7</td>\n",
       "    </tr>\n",
       "    <tr>\n",
       "      <th>1289</th>\n",
       "      <td>103</td>\n",
       "      <td>76</td>\n",
       "      <td>24</td>\n",
       "      <td>125.0</td>\n",
       "      <td>65.3</td>\n",
       "      <td>25.9</td>\n",
       "      <td>32.0</td>\n",
       "    </tr>\n",
       "  </tbody>\n",
       "</table>\n",
       "<p>3340 rows × 7 columns</p>\n",
       "</div>"
      ],
      "text/plain": [
       "      Length  Diameter  Height  Whole_weight  Shucked_weight  Viscera_weight  \\\n",
       "3543      95        71      25          97.3            43.1            22.1   \n",
       "3035     110        89      29         156.6            60.9            31.4   \n",
       "4018     132       103      31         288.3           141.1            71.1   \n",
       "997      118        91      29         212.6           103.1            48.9   \n",
       "2522     113        88      30         196.6            89.5            47.1   \n",
       "...      ...       ...     ...           ...             ...             ...   \n",
       "2009      87        65      24          69.2            31.8            16.8   \n",
       "1180     131       102      35         283.0           117.7            74.5   \n",
       "3441      96        74      26         128.6            69.8            23.1   \n",
       "1344     117        95      30         213.0           106.3            39.8   \n",
       "1289     103        76      24         125.0            65.3            25.9   \n",
       "\n",
       "      Shell_weight  \n",
       "3543          28.4  \n",
       "3035          53.0  \n",
       "4018          67.0  \n",
       "997           50.0  \n",
       "2522          49.7  \n",
       "...            ...  \n",
       "2009          19.0  \n",
       "1180          72.8  \n",
       "3441          27.0  \n",
       "1344          57.7  \n",
       "1289          32.0  \n",
       "\n",
       "[3340 rows x 7 columns]"
      ]
     },
     "execution_count": 18,
     "metadata": {},
     "output_type": "execute_result"
    }
   ],
   "source": [
    "X_train"
   ]
  },
  {
   "cell_type": "code",
   "execution_count": 19,
   "metadata": {},
   "outputs": [
    {
     "data": {
      "text/plain": [
       "3543    G2\n",
       "3035    G2\n",
       "4018    G2\n",
       "Name: category_size, dtype: object"
      ]
     },
     "execution_count": 19,
     "metadata": {},
     "output_type": "execute_result"
    }
   ],
   "source": [
    "y_train[0:3]"
   ]
  },
  {
   "cell_type": "code",
   "execution_count": 20,
   "metadata": {},
   "outputs": [
    {
     "data": {
      "text/plain": [
       "(836, 7)"
      ]
     },
     "execution_count": 20,
     "metadata": {},
     "output_type": "execute_result"
    }
   ],
   "source": [
    "X_test.shape"
   ]
  },
  {
   "cell_type": "code",
   "execution_count": 21,
   "metadata": {},
   "outputs": [
    {
     "data": {
      "text/html": [
       "<div>\n",
       "<style scoped>\n",
       "    .dataframe tbody tr th:only-of-type {\n",
       "        vertical-align: middle;\n",
       "    }\n",
       "\n",
       "    .dataframe tbody tr th {\n",
       "        vertical-align: top;\n",
       "    }\n",
       "\n",
       "    .dataframe thead th {\n",
       "        text-align: right;\n",
       "    }\n",
       "</style>\n",
       "<table border=\"1\" class=\"dataframe\">\n",
       "  <thead>\n",
       "    <tr style=\"text-align: right;\">\n",
       "      <th></th>\n",
       "      <th>Length</th>\n",
       "      <th>Diameter</th>\n",
       "      <th>Height</th>\n",
       "      <th>Whole_weight</th>\n",
       "      <th>Shucked_weight</th>\n",
       "      <th>Viscera_weight</th>\n",
       "      <th>Shell_weight</th>\n",
       "    </tr>\n",
       "  </thead>\n",
       "  <tbody>\n",
       "    <tr>\n",
       "      <th>1371</th>\n",
       "      <td>123</td>\n",
       "      <td>95</td>\n",
       "      <td>33</td>\n",
       "      <td>204.6</td>\n",
       "      <td>98.1</td>\n",
       "      <td>39.1</td>\n",
       "      <td>60.7</td>\n",
       "    </tr>\n",
       "    <tr>\n",
       "      <th>3853</th>\n",
       "      <td>97</td>\n",
       "      <td>80</td>\n",
       "      <td>31</td>\n",
       "      <td>146.2</td>\n",
       "      <td>47.2</td>\n",
       "      <td>36.6</td>\n",
       "      <td>51.0</td>\n",
       "    </tr>\n",
       "  </tbody>\n",
       "</table>\n",
       "</div>"
      ],
      "text/plain": [
       "      Length  Diameter  Height  Whole_weight  Shucked_weight  Viscera_weight  \\\n",
       "1371     123        95      33         204.6            98.1            39.1   \n",
       "3853      97        80      31         146.2            47.2            36.6   \n",
       "\n",
       "      Shell_weight  \n",
       "1371          60.7  \n",
       "3853          51.0  "
      ]
     },
     "execution_count": 21,
     "metadata": {},
     "output_type": "execute_result"
    }
   ],
   "source": [
    "X_test[1:3]"
   ]
  },
  {
   "cell_type": "code",
   "execution_count": 22,
   "metadata": {},
   "outputs": [],
   "source": [
    "temp = X_train.values\n",
    "X_train_gender = np.concatenate((temp, X_gender), axis=1)"
   ]
  },
  {
   "cell_type": "code",
   "execution_count": 23,
   "metadata": {},
   "outputs": [],
   "source": [
    "temp = X_test.values\n",
    "X_test_gender = np.concatenate((temp, X_gender_test), axis=1)"
   ]
  },
  {
   "cell_type": "code",
   "execution_count": 24,
   "metadata": {},
   "outputs": [
    {
     "data": {
      "text/plain": [
       "array([[0., 1., 0.],\n",
       "       [0., 1., 0.],\n",
       "       [0., 0., 1.],\n",
       "       ...,\n",
       "       [0., 0., 1.],\n",
       "       [0., 0., 1.],\n",
       "       [0., 1., 0.]])"
      ]
     },
     "execution_count": 24,
     "metadata": {},
     "output_type": "execute_result"
    }
   ],
   "source": [
    "X_gender"
   ]
  },
  {
   "cell_type": "code",
   "execution_count": 25,
   "metadata": {},
   "outputs": [
    {
     "data": {
      "text/plain": [
       "(3340, 3)"
      ]
     },
     "execution_count": 25,
     "metadata": {},
     "output_type": "execute_result"
    }
   ],
   "source": [
    "X_gender.shape"
   ]
  },
  {
   "cell_type": "code",
   "execution_count": 26,
   "metadata": {},
   "outputs": [
    {
     "data": {
      "text/plain": [
       "{0: 2.4886769964243145, 1: 0.6257117171111777}"
      ]
     },
     "execution_count": 26,
     "metadata": {},
     "output_type": "execute_result"
    }
   ],
   "source": [
    "class_weights = compute_class_weight(class_weight='balanced', classes=np.unique(data['category_size']), y=data['category_size'])\n",
    "class_weights_dict = dict(enumerate(class_weights))\n",
    "class_weights_dict"
   ]
  },
  {
   "cell_type": "code",
   "execution_count": null,
   "metadata": {},
   "outputs": [],
   "source": []
  },
  {
   "cell_type": "code",
   "execution_count": 27,
   "metadata": {},
   "outputs": [
    {
     "data": {
      "text/plain": [
       "{'G1': 2.4886769964243145, 'G2': 0.6257117171111777}"
      ]
     },
     "execution_count": 27,
     "metadata": {},
     "output_type": "execute_result"
    }
   ],
   "source": [
    "old_keys = np.r_[0:27]\n",
    "new_keys = np.unique(data['category_size'])\n",
    "weights_final = dict(zip(new_keys, list(class_weights_dict.values()))) \n",
    "#class_weights_dict[new_keys] = class_weights_dict.pop(old_keys)\n",
    "#class_weights_dict.keys()\n",
    "weights_final"
   ]
  },
  {
   "cell_type": "code",
   "execution_count": 28,
   "metadata": {},
   "outputs": [
    {
     "data": {
      "text/plain": [
       "array([[ 95. ,  71. ,  25. ,  97.3,  43.1,  22.1,  28.4,   0. ,   1. ,\n",
       "          0. ],\n",
       "       [110. ,  89. ,  29. , 156.6,  60.9,  31.4,  53. ,   0. ,   1. ,\n",
       "          0. ],\n",
       "       [132. , 103. ,  31. , 288.3, 141.1,  71.1,  67. ,   0. ,   0. ,\n",
       "          1. ],\n",
       "       [118. ,  91. ,  29. , 212.6, 103.1,  48.9,  50. ,   1. ,   0. ,\n",
       "          0. ],\n",
       "       [113. ,  88. ,  30. , 196.6,  89.5,  47.1,  49.7,   1. ,   0. ,\n",
       "          0. ]])"
      ]
     },
     "execution_count": 28,
     "metadata": {},
     "output_type": "execute_result"
    }
   ],
   "source": [
    "X_train_gender[0:5]"
   ]
  },
  {
   "cell_type": "code",
   "execution_count": 29,
   "metadata": {},
   "outputs": [],
   "source": [
    "#Grid Search"
   ]
  },
  {
   "cell_type": "code",
   "execution_count": 30,
   "metadata": {},
   "outputs": [
    {
     "data": {
      "text/plain": [
       "GridSearchCV(cv=5, estimator=RandomForestClassifier(), n_jobs=-1,\n",
       "             param_grid=[{'bootstrap': [True, False],\n",
       "                          'class_weight': [None, 'balanced'],\n",
       "                          'criterion': ['gini', 'entropy'],\n",
       "                          'max_features': ['auto', 'sqrt', 'log2'],\n",
       "                          'n_estimators': [10, 20, 30, 50, 70, 80, 100, 120,\n",
       "                                           150, 180, 200, 220, 280, 320],\n",
       "                          'oob_score': [True, False]}],\n",
       "             return_train_score=True, scoring='accuracy')"
      ]
     },
     "execution_count": 30,
     "metadata": {},
     "output_type": "execute_result"
    }
   ],
   "source": [
    "rfc = RandomForestClassifier()\n",
    "\n",
    "param_grid = [\n",
    "    {'n_estimators': [10, 20, 30, 50, 70, 80, 100, 120, 150, 180, 200, 220, 280, 320], \n",
    "     'max_features': ['auto','sqrt','log2'], \n",
    "      'oob_score':[True, False], 'bootstrap':[True, False], \n",
    "     'class_weight':[None, 'balanced'], 'criterion':['gini', 'entropy']}\n",
    "] # a list of dictionaries\n",
    "\n",
    "grid_search = GridSearchCV(rfc, param_grid, cv=5, return_train_score=True, scoring='accuracy', n_jobs=-1)\n",
    "grid_search.fit(X_train, y_train)"
   ]
  },
  {
   "cell_type": "code",
   "execution_count": 31,
   "metadata": {},
   "outputs": [
    {
     "data": {
      "text/plain": [
       "{'bootstrap': True,\n",
       " 'class_weight': 'balanced',\n",
       " 'criterion': 'gini',\n",
       " 'max_features': 'log2',\n",
       " 'n_estimators': 70,\n",
       " 'oob_score': False}"
      ]
     },
     "execution_count": 31,
     "metadata": {},
     "output_type": "execute_result"
    }
   ],
   "source": [
    "grid_search.best_params_"
   ]
  },
  {
   "cell_type": "code",
   "execution_count": null,
   "metadata": {},
   "outputs": [],
   "source": [
    "#Random Forest"
   ]
  },
  {
   "cell_type": "code",
   "execution_count": 32,
   "metadata": {},
   "outputs": [
    {
     "data": {
      "text/plain": [
       "RandomForestClassifier(n_estimators=30, n_jobs=-1)"
      ]
     },
     "execution_count": 32,
     "metadata": {},
     "output_type": "execute_result"
    }
   ],
   "source": [
    "rf_classifier = RandomForestClassifier(bootstrap=True, class_weight=None, criterion='gini',\n",
    "                                       max_features='auto', n_estimators=30, oob_score=False,n_jobs=-1)\n",
    "rf_classifier.fit(X_train_gender, y_train)"
   ]
  },
  {
   "cell_type": "code",
   "execution_count": 33,
   "metadata": {},
   "outputs": [
    {
     "data": {
      "text/plain": [
       "1.0"
      ]
     },
     "execution_count": 33,
     "metadata": {},
     "output_type": "execute_result"
    }
   ],
   "source": [
    "rf_classifier_train = rf_classifier.predict(X_train_gender)\n",
    "accuracy_score(y_train, rf_classifier_train)"
   ]
  },
  {
   "cell_type": "code",
   "execution_count": 34,
   "metadata": {},
   "outputs": [
    {
     "data": {
      "text/plain": [
       "0.916267942583732"
      ]
     },
     "execution_count": 34,
     "metadata": {},
     "output_type": "execute_result"
    }
   ],
   "source": [
    "rf_classifier_test = rf_classifier.predict(X_test_gender)\n",
    "accuracy_score(y_test, rf_classifier_test)"
   ]
  },
  {
   "cell_type": "code",
   "execution_count": 35,
   "metadata": {},
   "outputs": [
    {
     "data": {
      "text/plain": [
       "<sklearn.metrics._plot.confusion_matrix.ConfusionMatrixDisplay at 0x1f8a70e8340>"
      ]
     },
     "execution_count": 35,
     "metadata": {},
     "output_type": "execute_result"
    },
    {
     "data": {
      "image/png": "[encoded data removed]",
      "text/plain": [
       "<Figure size 432x288 with 2 Axes>"
      ]
     },
     "metadata": {
      "needs_background": "light"
     },
     "output_type": "display_data"
    }
   ],
   "source": [
    "plot_confusion_matrix(rf_classifier, X_train_gender, y_train)"
   ]
  },
  {
   "cell_type": "code",
   "execution_count": 37,
   "metadata": {},
   "outputs": [
    {
     "data": {
      "text/plain": [
       "<sklearn.metrics._plot.confusion_matrix.ConfusionMatrixDisplay at 0x1f8ac79ceb0>"
      ]
     },
     "execution_count": 37,
     "metadata": {},
     "output_type": "execute_result"
    },
    {
     "data": {
      "image/png": "[encoded data removed]",
      "text/plain": [
       "<Figure size 432x288 with 2 Axes>"
      ]
     },
     "metadata": {
      "needs_background": "light"
     },
     "output_type": "display_data"
    }
   ],
   "source": [
    "plot_confusion_matrix(rf_classifier, X_test_gender, y_test)"
   ]
  },
  {
   "cell_type": "code",
   "execution_count": 38,
   "metadata": {},
   "outputs": [
    {
     "name": "stdout",
     "output_type": "stream",
     "text": [
      "              precision    recall  f1-score   support\n",
      "\n",
      "          G1       0.79      0.76      0.78       160\n",
      "          G2       0.94      0.95      0.95       676\n",
      "\n",
      "    accuracy                           0.92       836\n",
      "   macro avg       0.87      0.86      0.86       836\n",
      "weighted avg       0.92      0.92      0.92       836\n",
      "\n"
     ]
    }
   ],
   "source": [
    "from sklearn.metrics import classification_report\n",
    "print(classification_report(y_test, rf_classifier_test))"
   ]
  },
  {
   "cell_type": "code",
   "execution_count": null,
   "metadata": {},
   "outputs": [],
   "source": []
  }
 ],
 "metadata": {
  "kernelspec": {
   "display_name": "Python 3",
   "language": "python",
   "name": "python3"
  },
  "language_info": {
   "codemirror_mode": {
    "name": "ipython",
    "version": 3
   },
   "file_extension": ".py",
   "mimetype": "text/x-python",
   "name": "python",
   "nbconvert_exporter": "python",
   "pygments_lexer": "ipython3",
   "version": "3.8.5"
  }
 },
 "nbformat": 4,
 "nbformat_minor": 4
}
